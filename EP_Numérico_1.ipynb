{
  "nbformat": 4,
  "nbformat_minor": 0,
  "metadata": {
    "colab": {
      "name": "EP Numérico 1.ipynb",
      "provenance": [],
      "collapsed_sections": [],
      "include_colab_link": true
    },
    "kernelspec": {
      "name": "python3",
      "display_name": "Python 3"
    },
    "language_info": {
      "name": "python"
    }
  },
  "cells": [
    {
      "cell_type": "markdown",
      "metadata": {
        "id": "view-in-github",
        "colab_type": "text"
      },
      "source": [
        "<a href=\"https://colab.research.google.com/github/kenzou-eu/EP1/blob/main/EP_Num%C3%A9rico_1.ipynb\" target=\"_parent\"><img src=\"https://colab.research.google.com/assets/colab-badge.svg\" alt=\"Open In Colab\"/></a>"
      ]
    },
    {
      "cell_type": "code",
      "metadata": {
        "id": "TymVzFxx7oAa"
      },
      "source": [
        "import math\n",
        "\n",
        "def AlgoritmoQR(n,A,B,V,e):\n",
        "    k=0\n",
        "    for i in range(n-1):\n",
        "        while abs(B[i])>e:\n",
        "            cos=[]\n",
        "            sen=[]\n",
        "            C=[]\n",
        "            for j in range(n-1):\n",
        "                C.append(B[j])\n",
        "            d=(A[n-2]-A[n-1])/2\n",
        "            if d>=0:\n",
        "                h=A[n-1]+d-pow(d*d+B[n-2]*B[n-2],1/2)\n",
        "            if d<0:\n",
        "                h=A[n-1]+d+pow(d*d+B[n-2]*B[n-2],1/2)\n",
        "            for j in range(n):\n",
        "                A[j]=A[j]-h\n",
        "            for q in range(n-1):\n",
        "                if q!=(n-2):\n",
        "                    cos.append(A[q]/pow(A[q]*A[q]+B[q]*B[q],1/2)) #ck\n",
        "                    sen.append(-B[q]/pow(A[q]*A[q]+B[q]*B[q],1/2))\n",
        "                    A.insert(q+1,(cos[q]*A[q]-sen[q]*B[q]))\n",
        "                    A.pop(q)\n",
        "                    A.insert(q+2,(sen[q]*C[q]+cos[q]*A[q+1]))\n",
        "                    C.insert(q+1,(cos[q]*C[q]-sen[q]*A[q+1]))\n",
        "                    A.pop(q+1)\n",
        "                    C.pop(q)\n",
        "                    C.insert(q+2,(cos[q]*C[q+1]))\n",
        "                    C.pop(q+1)\n",
        "                if q==(n-2):\n",
        "                    cos.append(A[q]/pow(A[q]*A[q]+B[q]*B[q],1/2))\n",
        "                    sen.append(-B[q]/pow(A[q]*A[q]+B[q]*B[q],1/2))\n",
        "                    A.insert(q+1,(cos[q]*A[q]-sen[q]*B[q]))\n",
        "                    A.pop(q)\n",
        "                    A.insert(q+2,(sen[q]*C[q]+cos[q]*A[q+1]))\n",
        "                    C.insert(q+1,(cos[q]*C[q]-sen[q]*A[q+1]))\n",
        "                    A.pop(q+1)\n",
        "                    C.pop(q)\n",
        "            for q in range(n-1):\n",
        "                A.insert(q+1,(cos[q]*A[q]-sen[q]*C[q]))\n",
        "                A.pop(q)\n",
        "                A.insert(q+2,(cos[q]*A[q+1]))\n",
        "                B.insert(q+1,(-sen[q]*A[q+1]))\n",
        "                A.pop(q+1)\n",
        "                B.pop(q)\n",
        "                for m in range(n):\n",
        "                    V[m].insert(q+1,(cos[q]*V[m][q]-sen[q]*V[m][q+1]))\n",
        "                    V[m].insert(q+3,(sen[q]*V[m][q]+cos[q]*V[m][q+2]))\n",
        "                    V[m].pop(q)\n",
        "                    V[m].pop(q+1)\n",
        "            for j in range(n):\n",
        "                A[j]=A[j]+h\n",
        "            k=k+1\n",
        "\n",
        "n=int(input('Qual a ordem da matriz?'))\n",
        "\n",
        "A=[]\n",
        "for i in range(n):\n",
        "    if i==0:\n",
        "        a=float(input('Digite o primeiro elemento da diagonal principal:'))\n",
        "        A.append(a)\n",
        "    else:\n",
        "        a=float(input('Digite o próximo elemento da diagonal principal:'))\n",
        "        A.append(a)\n",
        "        \n",
        "B=[]\n",
        "for i in range(n-1):\n",
        "    if i==0:\n",
        "        b=float(input('Digite o primeiro elemento da sub-diagonal:'))\n",
        "        B.append(b)\n",
        "    else:\n",
        "        b=float(input('Digite o próximo elemento da sub-principal:'))\n",
        "        B.append(b)\n",
        "        \n",
        "V=[]\n",
        "def v(n):\n",
        "    v0=[]\n",
        "    for i in range(n):\n",
        "        v0.append(0)\n",
        "    return(v0)\n",
        "for i in range(n):\n",
        "    V.append(v(n))\n",
        "for i in range(n):\n",
        "    V[i][i]=1\n",
        "\n",
        "\n",
        "e=float(input('Qual valor do erro?'))\n",
        "\n",
        "AlgoritmoQR(n,A,B,V,e)\n",
        "print('A=',A)\n",
        "print('B=',B)\n",
        "print('V=',V)"
      ],
      "execution_count": null,
      "outputs": []
    },
    {
      "cell_type": "markdown",
      "metadata": {
        "id": "z4xdSvfplXbv"
      },
      "source": [
        "### Início do programa\n"
      ]
    },
    {
      "cell_type": "code",
      "metadata": {
        "id": "SmhKSGWX-_QO"
      },
      "source": [
        "import matplotlib.pyplot as plt\n",
        "import numpy as np\n",
        "import math\n",
        "pi = math.pi"
      ],
      "execution_count": 1,
      "outputs": []
    },
    {
      "cell_type": "code",
      "metadata": {
        "id": "RBKzjHNfAfxq"
      },
      "source": [
        "def ck(a, b, k):\n",
        "    dividend = a[k]\n",
        "    divisor = math.sqrt(pow(a[k], 2) + pow(b[k], 2))\n",
        "    c = dividend/divisor\n",
        "    return c\n",
        "\n",
        "def sk(a, b, k):\n",
        "    dividend = -b[k]\n",
        "    divisor = math.sqrt(pow(a[k], 2) + pow(b[k], 2))\n",
        "    s = (dividend/divisor)\n",
        "    return s\n",
        "\n",
        "def sgn(d):\n",
        "    if d >=0:\n",
        "        return 1\n",
        "    else:\n",
        "        return -1\n",
        "\n",
        "def dk(alfa, n): #alfa(i,k) é o coeficiente i da diagonal principal da matriz A na interação k, beta é da outra diagonal\n",
        "    valuedk = (alfa[n-1] - alfa[n])/2\n",
        "    return valuedk\n",
        "\n",
        "def uk(alfa, beta, d, n, k, desloc): #Heurística de wilkinson\n",
        "    if k!= 0 and desloc == 1:\n",
        "      valueuk = alfa[n] + dk(alfa, n) - sgn(d)*(math.sqrt(pow(dk(alfa,n), 2) + pow(beta[n-1],2)))\n",
        "      return valueuk\n",
        "    if k==0 or desloc == 0:\n",
        "      return 0\n",
        "\n",
        "def matA(n): #A é a matriz da diagonal principal\n",
        "    A = []\n",
        "    for i in range(n):\n",
        "        if i==0:\n",
        "            a=float(input('Digite o primeiro elemento da diagonal principal:'))\n",
        "            A.append(a)\n",
        "        else:\n",
        "            a=float(input('Digite o próximo elemento da diagonal principal:'))\n",
        "            A.append(a)\n",
        "    return A\n",
        "\n",
        "def matB(n): #B é a matriz da sub-diagonal \n",
        "    B = []\n",
        "    for i in range(n-1):\n",
        "        if i==0:\n",
        "            b=float(input('Digite o primeiro elemento da sub-diagonal: '))\n",
        "            B.append(b)\n",
        "        else:\n",
        "            b=float(input('Digite o próximo elemento da sub-diagonal: '))\n",
        "            B.append(b)\n",
        "    return B\n",
        "\n",
        "def v(n):\n",
        "    v0=[]\n",
        "    for i in range(n):\n",
        "        v0.append(0)\n",
        "    return(v0)\n",
        "\n",
        "def handleV(n):\n",
        "  V=[]\n",
        "  for i in range(n):\n",
        "      V.append(v(n))\n",
        "  for i in range(n):\n",
        "      V[i][i]=1\n",
        "  return V\n",
        "\n"
      ],
      "execution_count": 20,
      "outputs": []
    },
    {
      "cell_type": "code",
      "metadata": {
        "id": "LZ13tOsJAfmN"
      },
      "source": [
        "def metodoQR(n, A, B, V, erro, desloc):\n",
        "    k = 0\n",
        "    for i in range(n-1):\n",
        "        while abs(B[i]) > erro:\n",
        "            cos = []\n",
        "            sen = []\n",
        "            C=[]\n",
        "            for j in range(n-1):\n",
        "                C.append(B[j])\n",
        "            valueDK = dk(A, n-1)\n",
        "            valueUK = uk(A, B, valueDK, n-1, k, desloc)\n",
        "            for j in range(n):\n",
        "                A[j] = A[j] - valueUK\n",
        "            for q in range(n-1):\n",
        "                if q != (n-2):\n",
        "                    cos.append(ck(A,B,q))\n",
        "                    sen.append(sk(A,B,q))\n",
        "                    A.insert(q+1,(cos[q]*A[q]-sen[q]*B[q]))\n",
        "                    A.pop(q)\n",
        "                    A.insert(q+2,(sen[q]*C[q]+cos[q]*A[q+1]))\n",
        "                    C.insert(q+1,(cos[q]*C[q]-sen[q]*A[q+1]))\n",
        "                    A.pop(q+1)\n",
        "                    C.pop(q)\n",
        "                    C.insert(q+2,(cos[q]*C[q+1]))\n",
        "                    C.pop(q+1)\n",
        "                if q == (n-2):\n",
        "                    cos.append(ck(A,B,q))\n",
        "                    sen.append(sk(A,B,q)) \n",
        "                    A.insert(q+1,(cos[q]*A[q]-sen[q]*B[q]))\n",
        "                    A.pop(q)\n",
        "                    A.insert(q+2,(sen[q]*C[q]+cos[q]*A[q+1]))\n",
        "                    C.insert(q+1,(cos[q]*C[q]-sen[q]*A[q+1]))\n",
        "                    A.pop(q+1)\n",
        "                    C.pop(q)\n",
        "            for q in range(n-1):\n",
        "                A.insert(q+1,(cos[q]*A[q]-sen[q]*C[q]))\n",
        "                A.pop(q)\n",
        "                A.insert(q+2,(cos[q]*A[q+1]))\n",
        "                B.insert(q+1,(-sen[q]*A[q+1]))\n",
        "                A.pop(q+1)\n",
        "                B.pop(q)\n",
        "                for m in range(n):\n",
        "                    V[m].insert(q+1,(cos[q]*V[m][q]-sen[q]*V[m][q+1]))\n",
        "                    V[m].insert(q+3,(sen[q]*V[m][q]+cos[q]*V[m][q+2]))\n",
        "                    V[m].pop(q)\n",
        "                    V[m].pop(q+1)\n",
        "            for j in range(n):\n",
        "                A[j] = A[j] + valueUK\n",
        "            k = k+1\n",
        "    return A, B, V, k\n",
        "    # print('A =',A)\n",
        "    # print('B =',B)\n",
        "    # print('V =')\n",
        "    # for i in range(n):\n",
        "    #   print(V[i])\n",
        "    # print(\"O numero de interações foi: \", k)"
      ],
      "execution_count": 15,
      "outputs": []
    },
    {
      "cell_type": "code",
      "metadata": {
        "colab": {
          "base_uri": "https://localhost:8080/"
        },
        "id": "HD5OebajAfXU",
        "outputId": "f6dc42dc-8b25-4686-82e6-fbfb84f05af5"
      },
      "source": [
        "# %%\n",
        "desloc = int(input(\"Deseja realizar o QR com deslocamento? Se sim, digite 1, se não, digite 0. \"))\n",
        "n = int(input(\"Qual a ordem da Matriz? \")) #tamanho da matriz\n",
        "# A = matA(n) #cria um vetor com os elementos da diagonal principal\n",
        "# B = matB(n) #cria um vetor com os elementos da sub-diagonal \n",
        "# erro = float(input(\"Qual o valor do erro? Digite na forma 1.0e-6 \"))\n",
        "\n",
        "A = []\n",
        "for i in range(n):\n",
        "  A.append(2)\n",
        "B = []\n",
        "for i in range(n-1):\n",
        "  B.append(-1)\n",
        "erro = float(1.0e-6)\n",
        "\n",
        "V = handleV(n)\n",
        "\n",
        "A, B, V, k = metodoQR(n, A, B, V, erro, desloc)\n",
        "print('A =',A)\n",
        "print('V =')\n",
        "for i in range(n):\n",
        "    print(V[i])\n",
        "print(\"O numero de interações foi: \", k)\n",
        "\n"
      ],
      "execution_count": 30,
      "outputs": [
        {
          "output_type": "stream",
          "text": [
            "Deseja realizar o QR com deslocamento? Se sim, digite 1, se não, digite 0. 1\n",
            "Qual a ordem da Matriz? 4\n",
            "A = [3.6180339887490436, 2.6180339887507444, 1.3819660112501082, 0.38196601125010526]\n",
            "V =\n",
            "[0.3717485886598342, 0.6015006124930082, 0.6015009550075102, 0.3717480344601846]\n",
            "[-0.6015012975216081, -0.3717474802601965, 0.3717480344602072, 0.601500955007546]\n",
            "[0.6015006124929727, -0.37174858865985694, -0.3717480344601624, 0.6015009550075457]\n",
            "[-0.3717474802602187, 0.6015012975215729, -0.6015009550075818, 0.37174803446018456]\n",
            "O numero de interações foi:  39\n"
          ],
          "name": "stdout"
        }
      ]
    },
    {
      "cell_type": "code",
      "metadata": {
        "colab": {
          "base_uri": "https://localhost:8080/",
          "height": 137
        },
        "id": "462xzFqwXugQ",
        "outputId": "a5c6f830-29f8-4400-9ed4-63d97b9f6666"
      },
      "source": [
        "def autovalores(n):\n",
        "  A = []\n",
        "  for i in range(n):\n",
        "    a = 2*(1-math.cos(((i+1)*pi)/(n+1)))\n",
        "    A.insert(0,a)\n",
        "  return A\n",
        "\n",
        "def autovetores(n):\n",
        "  V = []\n",
        "  a = 0\n",
        "  for i in range(n):\n",
        "    vector = []\n",
        "    for j in range(n):\n",
        "      v = math.sin(((j+1)*(i+1)*pi)/(n+1))\n",
        "      vector.insert(0, v)\n",
        "      a = a + v**2\n",
        "    normalized = vector/np.sqrt(a)\n",
        "    a = 0\n",
        "    V.append(normalized)\n",
        "  return V\n",
        "\n",
        "\n",
        "n = int(input(\"Qual a ordem da Matriz? \")) #tamanho da matriz\n",
        "Vteorico = autovetores(n)\n",
        "Ateorico = autovalores(n)\n",
        "print(\"O A teórico é: \", Ateorico)\n",
        "display(\"O V teórico é: \", Vteorico)"
      ],
      "execution_count": 9,
      "outputs": [
        {
          "output_type": "stream",
          "text": [
            "Qual a ordem da Matriz? 4\n",
            "O A teórico é:  [3.618033988749895, 2.618033988749895, 1.381966011250105, 0.3819660112501051]\n"
          ],
          "name": "stdout"
        },
        {
          "output_type": "display_data",
          "data": {
            "application/vnd.google.colaboratory.intrinsic+json": {
              "type": "string"
            },
            "text/plain": [
              "'O V teórico é: '"
            ]
          },
          "metadata": {
            "tags": []
          }
        },
        {
          "output_type": "display_data",
          "data": {
            "text/plain": [
              "[array([0.37174803, 0.60150096, 0.60150096, 0.37174803]),\n",
              " array([-0.60150096, -0.37174803,  0.37174803,  0.60150096]),\n",
              " array([ 0.60150096, -0.37174803, -0.37174803,  0.60150096]),\n",
              " array([-0.37174803,  0.60150096, -0.60150096,  0.37174803])]"
            ]
          },
          "metadata": {
            "tags": []
          }
        }
      ]
    },
    {
      "cell_type": "code",
      "metadata": {
        "colab": {
          "base_uri": "https://localhost:8080/",
          "height": 302
        },
        "id": "Gkt7Ol5rlo0K",
        "outputId": "02f602ec-227a-4e81-e121-7671822b631b"
      },
      "source": [
        "# Autovetores representam os modos naturais de vibração\n",
        "# Autovalores determinam as frequências\n",
        "\n",
        "#ponto de parada é t=60\n",
        "def k(n):\n",
        "    ki = (40 + 2*n)\n",
        "    return ki\n",
        "\n",
        "def mainDiag(n,m):\n",
        "    A=[]\n",
        "    for i in range(1,n+1):\n",
        "        a = (k(i) + k(i+1))/m\n",
        "        A.append(a)\n",
        "    return A\n",
        "\n",
        "def subDiag(n,m):\n",
        "    B = []\n",
        "    for i in range(2,n+1):\n",
        "        b = -k(i)/m\n",
        "        B.append(b)\n",
        "    return B\n",
        "\n",
        "def a(x0, n):\n",
        "    mat_a=[]\n",
        "    for i in range(n):\n",
        "        value = x0[i]\n",
        "        mat_a.append(value)\n",
        "    return mat_a\n",
        "\n",
        "def handley0(x0, V):\n",
        "    Vt = np.transpose(V)\n",
        "    y0 = np.dot(Vt, x0)\n",
        "    return y0\n",
        "\n",
        "def functionY(t, a, n, A):\n",
        "      Y =[]\n",
        "      for i in range(n):\n",
        "        y = a[i]*math.cos(math.sqrt(A[i]*t))\n",
        "        Y.append(y)\n",
        "      return Y\n",
        "\n",
        "def functionX(t, a, n, A, V):\n",
        "    Y = functionY(t, a, n, A)\n",
        "    X = np.dot(V, Y)\n",
        "    somaX = sum(X)\n",
        "    return somaX\n",
        "\n",
        "\n",
        "x0 = [-2, -3, -1, -3, -1]\n",
        "n = 5 #Quantidade de massas\n",
        "m = 2 #Massa das massas\n",
        "desloc = 1\n",
        "t = 60\n",
        "erro = 1.0e-6\n",
        "V = handleV(n)\n",
        "A = mainDiag(n,m)\n",
        "B = subDiag(n,m)\n",
        "\n",
        "A, B, V, k = metodoQR(n, A, B, V, erro, desloc)\n",
        "print(\"A\", A)\n",
        "print(\"V\", V)\n",
        "y0 = handley0(x0, V)\n",
        "value_a = a(y0, n)\n",
        "\n",
        "X = []\n",
        "for i in range(1, t+1):\n",
        "    xi = functionX(i, value_a, n, A, V)\n",
        "    X.append(xi)\n",
        "print(\"X\", X)\n",
        "eixo_y = []\n",
        "for i in range(t+1):\n",
        "  eixo_y.append(i)\n",
        "\n",
        "for i in range(n):\n",
        "  eixo_x = []\n",
        "  eixo_x.append(x0[i])\n",
        "  for j in range(t): \n",
        "      eixo_x.append(X[j][i])\n",
        "  print(eixo_x)\n",
        "  plt.plot(eixo_x, eixo_y)\n",
        "  plt.show()"
      ],
      "execution_count": 56,
      "outputs": [
        {
          "output_type": "stream",
          "text": [
            "A [88.44500562036662, 70.11383113050884, 46.773186340059276, 23.39863315456126, 6.269343754503707]\n",
            "V [[0.18933468291544792, 0.47497609407951336, 0.5988223982052299, 0.5325039524890409, 0.3104856903136783], [-0.39110523908448613, -0.5853827917637471, -0.10270311331950498, 0.4744456963356248, 0.5183792345480607], [0.5576611177206107, 0.18485783142726275, -0.5648687392563447, -0.06375701825971554, 0.5759340326601525], [-0.5882019781905723, 0.38295966928649927, 0.09308548584216841, -0.5173751580265936, 0.4806436962399047], [0.3927105555511234, -0.5008933729046883, 0.5505653509427288, -0.4686137111648992, 0.2686321510699377]]\n",
            "X [6.903196352493397, 9.706933388435045, 2.80252621025519, -2.8515050506652693, -6.990359744393031, -9.287927403005076, -9.275622257869554, -7.255300632762449, -3.4258593809390603, 1.1916771580244379, 4.930180624701314, 7.033552299024655, 8.072359337033468, 8.80738440735466, 9.20840922214571, 8.65898530514836, 6.774435343726655, 3.8341633473589005, 0.5397541142905452, -2.481084931235559, -4.941467882336823, -6.823313787840442, -8.171827489248447, -8.981855454427679, -9.22870574760155, -8.946858355949974, -8.24768137900795, -7.254886330085801, -6.021302583634666, -4.504344281214689, -2.625266669642236, -0.37125503181809916, 2.1305827251941514, 4.6174478147426266, 6.772942310093594, 8.341677254434547, 9.216734379713118, 9.459716459459461, 9.250506309005871, 8.797232126850286, 8.250683076015296, 7.6585855280356006, 6.972036291227823, 6.092124148002111, 4.930230611788042, 3.4549662954459595, 1.7094908527921815, -0.20181510096109181, -2.1459421655282527, -3.99659275710822, -5.658414176780925, -7.07394718474521, -8.215611712755335, -9.070737774750478, -9.628780214658729, -9.876865063726793, -9.804699956942931, -9.415116133740685, -8.734002978098658, -7.813862523012448]\n"
          ],
          "name": "stdout"
        },
        {
          "output_type": "error",
          "ename": "IndexError",
          "evalue": "ignored",
          "traceback": [
            "\u001b[0;31m---------------------------------------------------------------------------\u001b[0m",
            "\u001b[0;31mIndexError\u001b[0m                                Traceback (most recent call last)",
            "\u001b[0;32m<ipython-input-56-0245b3d0ca09>\u001b[0m in \u001b[0;36m<module>\u001b[0;34m()\u001b[0m\n\u001b[1;32m     76\u001b[0m   \u001b[0meixo_x\u001b[0m\u001b[0;34m.\u001b[0m\u001b[0mappend\u001b[0m\u001b[0;34m(\u001b[0m\u001b[0mx0\u001b[0m\u001b[0;34m[\u001b[0m\u001b[0mi\u001b[0m\u001b[0;34m]\u001b[0m\u001b[0;34m)\u001b[0m\u001b[0;34m\u001b[0m\u001b[0;34m\u001b[0m\u001b[0m\n\u001b[1;32m     77\u001b[0m   \u001b[0;32mfor\u001b[0m \u001b[0mj\u001b[0m \u001b[0;32min\u001b[0m \u001b[0mrange\u001b[0m\u001b[0;34m(\u001b[0m\u001b[0mt\u001b[0m\u001b[0;34m)\u001b[0m\u001b[0;34m:\u001b[0m\u001b[0;34m\u001b[0m\u001b[0;34m\u001b[0m\u001b[0m\n\u001b[0;32m---> 78\u001b[0;31m       \u001b[0meixo_x\u001b[0m\u001b[0;34m.\u001b[0m\u001b[0mappend\u001b[0m\u001b[0;34m(\u001b[0m\u001b[0mX\u001b[0m\u001b[0;34m[\u001b[0m\u001b[0mj\u001b[0m\u001b[0;34m]\u001b[0m\u001b[0;34m[\u001b[0m\u001b[0mi\u001b[0m\u001b[0;34m]\u001b[0m\u001b[0;34m)\u001b[0m\u001b[0;34m\u001b[0m\u001b[0;34m\u001b[0m\u001b[0m\n\u001b[0m\u001b[1;32m     79\u001b[0m   \u001b[0mprint\u001b[0m\u001b[0;34m(\u001b[0m\u001b[0meixo_x\u001b[0m\u001b[0;34m)\u001b[0m\u001b[0;34m\u001b[0m\u001b[0;34m\u001b[0m\u001b[0m\n\u001b[1;32m     80\u001b[0m   \u001b[0mplt\u001b[0m\u001b[0;34m.\u001b[0m\u001b[0mplot\u001b[0m\u001b[0;34m(\u001b[0m\u001b[0meixo_x\u001b[0m\u001b[0;34m,\u001b[0m \u001b[0meixo_y\u001b[0m\u001b[0;34m)\u001b[0m\u001b[0;34m\u001b[0m\u001b[0;34m\u001b[0m\u001b[0m\n",
            "\u001b[0;31mIndexError\u001b[0m: invalid index to scalar variable."
          ]
        }
      ]
    }
  ]
}